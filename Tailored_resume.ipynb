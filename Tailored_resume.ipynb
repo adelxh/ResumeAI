{
 "cells": [
  {
   "cell_type": "code",
   "execution_count": 2,
   "id": "ba1e86b3",
   "metadata": {},
   "outputs": [],
   "source": [
    "import os\n",
    "import requests\n",
    "from dotenv import load_dotenv\n",
    "from bs4 import BeautifulSoup\n",
    "from IPython.display import Markdown, display\n",
    "from openai import OpenAI"
   ]
  },
  {
   "cell_type": "code",
   "execution_count": 3,
   "id": "cabca87c",
   "metadata": {},
   "outputs": [],
   "source": [
    "openai = OpenAI()"
   ]
  },
  {
   "cell_type": "code",
   "execution_count": 4,
   "id": "b2dff3d4",
   "metadata": {},
   "outputs": [
    {
     "name": "stdout",
     "output_type": "stream",
     "text": [
      "API key found and looks good so far!\n"
     ]
    }
   ],
   "source": [
    "# Load environment variables in a file called .env\n",
    "\n",
    "load_dotenv(override=True)\n",
    "api_key = os.getenv('OPENAI_API_KEY')\n",
    "\n",
    "# Check the key\n",
    "\n",
    "if not api_key:\n",
    "    print(\"No API key was found - please head over to the troubleshooting notebook in this folder to identify & fix!\")\n",
    "elif not api_key.startswith(\"sk-proj-\"):\n",
    "    print(\"An API key was found, but it doesn't start sk-proj-; please check you're using the right key - see troubleshooting notebook\")\n",
    "elif api_key.strip() != api_key:\n",
    "    print(\"An API key was found, but it looks like it might have space or tab characters at the start or end - please remove them - see troubleshooting notebook\")\n",
    "else:\n",
    "    print(\"API key found and looks good so far!\")"
   ]
  },
  {
   "cell_type": "code",
   "execution_count": 5,
   "id": "adb503d1",
   "metadata": {},
   "outputs": [],
   "source": [
    "headers = {\n",
    " \"User-Agent\": \"Mozilla/5.0 (Windows NT 10.0; Win64; x64) AppleWebKit/537.36 (KHTML, like Gecko) Chrome/117.0.0.0 Safari/537.36\"\n",
    "}\n",
    "\n",
    "class Website:\n",
    "\n",
    "    def __init__(self, url):\n",
    "        \"\"\"\n",
    "        Create this Website object from the given url using the BeautifulSoup library\n",
    "        \"\"\"\n",
    "        self.url = url\n",
    "        response = requests.get(url, headers=headers)\n",
    "        soup = BeautifulSoup(response.content, 'html.parser')\n",
    "        self.title = soup.title.string if soup.title else \"No title found\"\n",
    "        for irrelevant in soup.body([\"script\", \"style\", \"img\", \"input\"]):\n",
    "            irrelevant.decompose()\n",
    "        self.text = soup.body.get_text(separator=\"\\n\", strip=True)"
   ]
  },
  {
   "cell_type": "code",
   "execution_count": 6,
   "id": "b2c90ccb",
   "metadata": {},
   "outputs": [
    {
     "name": "stdout",
     "output_type": "stream",
     "text": [
      "Title: Artificial Intelligence Analyst - Mevotech - Career Page\n",
      "\n",
      "Text: Skip To Job Description\n",
      "View All Jobs\n",
      "View Our Website\n",
      "Artificial Intelligence Analyst\n",
      "North York, ON, Canada\n",
      "Full Time\n",
      "IT\n",
      "Experienced\n",
      "Share\n",
      "Take your Career to the next Level with MEVOTECH.\n",
      "We are constantly challenging the status quo and raising the bar allowing employees to make an impact within the company.\n",
      "Mevotech is a trusted North American aftermarket auto parts leader that specializes in the engineering, design and distribution of driveline, steering and suspension parts (branded and private label). Fueled by innovation, our brands feature engineering improvements for maximum durability and performance, as well as time and labor-saving enhancements that drive bay efficiencies and increase shop revenues. Our in-house engineering team always has the Professional Technician in mind, and we are continuously optimizing part design for durability and ease of installation.\n",
      "With over 600 Canadian and U.S. team members, we can attribute our continued success to the passion, spirit and dedication of our employees. Mevotech was recognized with a Canada’s Best Managed Companies award in 2023 and 2024 for its industry-leading performance, global business practices, and sustained growth. Check out our career website to learn about our amazing culture and our commitment to employee wellness and engagement.\n",
      "https://www.mevotech.com/about-us/careers/\n",
      "JOB PURPOSE\n",
      "Reporting directly to the Manager of Data Governance, the AI Analyst will play a key role in advancing the development and deployment of AI strategies and tools across the organization. This position focuses on evaluating needs, recommending AI technologies, and supporting their architecture and implementation to improve operational efficiency and service delivery. The AI Analyst will be responsible for designing and conducting experiments, analyzing results, and clearly communicating findings to non-technical stakeholders, ensuring alignment with the company’s strategic objectives.\n",
      "KEY DUTIES AND RESPONSIBILITIES\n",
      "Strategic Planning:\n",
      "Monitor AI trends and industry developments to propose strategic opportunities for AI integration.\n",
      "Assist in developing  a strategic AI roadmap, defining milestones, deliverables, and timelines.\n",
      "Execution of AI strategies to align with organizational goals and enhance operational efficiency\n",
      "Needs Analysis & Evaluation:\n",
      "Conduct comprehensive needs assessments to identify opportunities for AI integration.\n",
      "Conduct research and data analysis to identify trends, patterns, and insights for AI applications.\n",
      "Measure the effectiveness of AI solutions, identifying areas of improvement\n",
      "Evaluate and recommend AI tools (e.g., AI assistants or co-pilots) based on feasibility and effort estimates.\n",
      "Perform cost-benefit analysis and risk assessment to guide decision-making on AI implementation\n",
      "Lead requirements gathering and analysis with stakeholders across functions\n",
      "Solution Design & Implementation:\n",
      "Design solutions, deployment plans, and quality assurance guidelines for AI initiatives.\n",
      "Provide subject matter expertise on AI architecture and implementation strategies.\n",
      "Oversee project planning and resource allocation to ensure successful delivery.\n",
      "Collaboration & Knowledge Sharing:\n",
      "Work closely with cross-functional teams to ensure AI solutions meet user needs.\n",
      "Communicate AI-related findings, results, and recommendations to non-technical stakeholders in a clear and actionable manner.\n",
      "Facilitate collaboration across departments to promote AI adoption and drive innovation throughout the organization.\n",
      "QUALIFICATIONS, SKILLS, AND EDUCATIONAL REQUIREMENTS\n",
      "Bachelor’s degree in computer science, Data Science, Information Systems, or Generative AI Certificate course or relatable work experience\n",
      "Understanding of technologies in the AI field, such as generative AI, LLM, world model, AI Agent, Transformer architecture, and AI security.\n",
      "Strong understanding of artificial intelligence, machine learning algorithms, neural networks, and deep learning techniques.\n",
      "Proficiency in programming languages such as Python, R, or Java.\n",
      "Strong knowledge of AI frameworks, libraries (TensorFlow, PyTorch, Peras) and technologies, including evaluation, selection and implementation.\n",
      "Knowledge of cloud platforms for AI deployment (AWS, Azure, Google Cloud).\n",
      "Familiarity with big data technologies and tools (e.g., Hadoop, Spark).\n",
      "Excellent problem-solving and analytical skills, with the ability to work with complex datasets.\n",
      "Strong communication and collaboration skills, with the ability to work effectively in cross-functional teams.\n",
      "Strong analytical and architectural skills, with a focus on enterprise-level solutions\n",
      "Diversity & Inclusion\n",
      "At Mevotech, diversity goes beyond demographics. We embrace unique perspectives and voices in our culture. We actively seek out different viewpoints and incorporate them into our organization.\n",
      "Accessibility Accommodations\n",
      "Mevotech provides accessibility accommodations during the recruitment process. If you require accommodations, please let us know, and we'll work with you to meet your needs.\n",
      "Share\n",
      "Apply\n",
      "Apply for this position\n",
      "Required\n",
      "*\n",
      "Apply with\n",
      "First Name\n",
      "*\n",
      "Last Name\n",
      "*\n",
      "Email Address\n",
      "*\n",
      "Phone\n",
      "*\n",
      "Address\n",
      "Resume\n",
      "*\n",
      "We've received your resume. Click\n",
      "here\n",
      "to update it.\n",
      "Attach resume\n",
      "or\n",
      "Paste resume\n",
      "Attach resume as .pdf, .doc, .docx, .odt, .txt, or .rtf (limit 5MB) or\n",
      "Paste resume\n",
      "Paste your resume here or\n",
      "Attach resume file\n",
      "Are you comfortable working 3 days on site in accordance with our hybrid policy?\n",
      "*\n",
      "-- No answer --\n",
      "Yes\n",
      "No\n",
      "Are you comfortable undergoing a criminal background and reference check?\n",
      "*\n",
      "-- No answer --\n",
      "Yes\n",
      "No\n",
      "Please select your salary expectations.\n",
      "*\n",
      "-- No answer --\n",
      "70,000-80,000\n",
      "80,000-90,000\n",
      "90,000-100,000\n",
      "100,000-110,000\n",
      "Are you legally authorized to work in Canada?\n",
      "-- No answer --\n",
      "Yes\n",
      "No\n",
      "Human Check\n",
      "*\n",
      "Submit Application\n",
      "This website uses cookies and other analytics technologies.\n",
      "By selecting \"Allow\", you consent to the recording, use and sharing of your website activity by this website and its service providers.\n",
      "Allow\n",
      "Reject All\n",
      "Powered by...\n"
     ]
    }
   ],
   "source": [
    "web = Website(\"https://mevotech.applytojob.com/apply/FRt0RlwFAu?source=LinkedIn\")\n",
    "print(f\"Title: {web.title}\\n\")\n",
    "print(f\"Text: {web.text}...\")"
   ]
  },
  {
   "cell_type": "code",
   "execution_count": 7,
   "id": "6cd6b19c",
   "metadata": {},
   "outputs": [],
   "source": [
    "system_prompt = \"\"\"\n",
    "You are a professional career advisor specializing in crafting tailored resumes.\n",
    "Given a URL containing a job description, perform the following steps:\n",
    "1. Retrieve and carefully analyze the job description from the provided URL.\n",
    "2. Generate the following clearly structured resume sections based on the analysis:\n",
    "Objective:\n",
    "- 1–2 concise sentences summarizing the applicant's suitability for the role.\n",
    "Highlights of Qualifications:\n",
    "- Exactly 7 bullet points highlighting relevant experiences, achievements, and competencies aligned with the job description.\n",
    "Technical Skills:\n",
    "- A clear list of essential technical skills directly relevant to the job.\n",
    "\n",
    "Make sure your entire response is formatted in Markdown for clarity and readability.\n",
    "Do not wrap your response in code blocks or backticks - return the raw markdown content directly.\n",
    "\"\"\""
   ]
  },
  {
   "cell_type": "code",
   "execution_count": 8,
   "id": "0e33f405",
   "metadata": {},
   "outputs": [],
   "source": [
    "def user_prompt():\n",
    "    user_prompt = f\"Youre looking at the job description website called {web.title}\"\n",
    "    user_prompt += f\"\\nHere is the job description text:{web.text}\\n\\n\"\n",
    "    return user_prompt"
   ]
  },
  {
   "cell_type": "code",
   "execution_count": 9,
   "id": "dc1c671f",
   "metadata": {},
   "outputs": [
    {
     "data": {
      "text/plain": [
       "[{'role': 'system',\n",
       "  'content': \"\\nYou are a professional career advisor specializing in crafting tailored resumes.\\nGiven a URL containing a job description, perform the following steps:\\n1. Retrieve and carefully analyze the job description from the provided URL.\\n2. Generate the following clearly structured resume sections based on the analysis:\\nObjective:\\n- 1–2 concise sentences summarizing the applicant's suitability for the role.\\nHighlights of Qualifications:\\n- Exactly 7 bullet points highlighting relevant experiences, achievements, and competencies aligned with the job description.\\nTechnical Skills:\\n- A clear list of essential technical skills directly relevant to the job.\\n\\nMake sure your entire response is formatted in Markdown for clarity and readability.\\nDo not wrap your response in code blocks or backticks - return the raw markdown content directly.\\n\"},\n",
       " {'role': 'user',\n",
       "  'content': 'Youre looking at the job description website called Artificial Intelligence Analyst - Mevotech - Career Page\\nHere is the job description text:Skip To Job Description\\nView All Jobs\\nView Our Website\\nArtificial Intelligence Analyst\\nNorth York, ON, Canada\\nFull Time\\nIT\\nExperienced\\nShare\\nTake your Career to the next Level with MEVOTECH.\\nWe are constantly challenging the status quo and raising the bar allowing employees to make an impact within the company.\\nMevotech is a trusted North American aftermarket auto parts leader that specializes in the engineering, design and distribution of driveline, steering and suspension parts (branded and private label). Fueled by innovation, our brands feature engineering improvements for maximum durability and performance, as well as time and labor-saving enhancements that drive bay efficiencies and increase shop revenues. Our in-house engineering team always has the Professional Technician in mind, and we are continuously optimizing part design for durability and ease of installation.\\nWith over 600 Canadian and U.S. team members, we can attribute our continued success to the passion, spirit and dedication of our employees. Mevotech was recognized with a Canada’s Best Managed Companies award in 2023 and 2024 for its industry-leading performance, global business practices, and sustained growth. Check out our career website to learn about our amazing culture and our commitment to employee wellness and engagement.\\nhttps://www.mevotech.com/about-us/careers/\\nJOB PURPOSE\\nReporting directly to the Manager of Data Governance, the AI Analyst will play a key role in advancing the development and deployment of AI strategies and tools across the organization. This position focuses on evaluating needs, recommending AI technologies, and supporting their architecture and implementation to improve operational efficiency and service delivery. The AI Analyst will be responsible for designing and conducting experiments, analyzing results, and clearly communicating findings to non-technical stakeholders, ensuring alignment with the company’s strategic objectives.\\nKEY DUTIES AND RESPONSIBILITIES\\nStrategic Planning:\\nMonitor AI trends and industry developments to propose strategic opportunities for AI integration.\\nAssist in developing \\xa0a strategic AI roadmap, defining milestones, deliverables, and timelines.\\nExecution of AI strategies to align with organizational goals and enhance operational efficiency\\nNeeds Analysis & Evaluation:\\nConduct comprehensive needs assessments to identify opportunities for AI integration.\\nConduct research and data analysis to identify trends, patterns, and insights for AI applications.\\nMeasure the effectiveness of AI solutions, identifying areas of improvement\\nEvaluate and recommend AI tools (e.g., AI assistants or co-pilots) based on feasibility and effort estimates.\\nPerform cost-benefit analysis and risk assessment to guide decision-making on AI implementation\\nLead requirements gathering and analysis with stakeholders across functions\\nSolution Design & Implementation:\\nDesign solutions, deployment plans, and quality assurance guidelines for AI initiatives.\\nProvide subject matter expertise on AI architecture and implementation strategies.\\nOversee project planning and resource allocation to ensure successful delivery.\\nCollaboration & Knowledge Sharing:\\nWork closely with cross-functional teams to ensure AI solutions meet user needs.\\nCommunicate AI-related findings, results, and recommendations to non-technical stakeholders in a clear and actionable manner.\\nFacilitate collaboration across departments to promote AI adoption and drive innovation throughout the organization.\\nQUALIFICATIONS, SKILLS, AND EDUCATIONAL REQUIREMENTS\\nBachelor’s degree in computer science, Data Science, Information Systems, or Generative AI Certificate course or relatable work experience\\nUnderstanding of technologies in the AI field, such as generative AI, LLM, world model, AI Agent, Transformer architecture, and AI security.\\nStrong understanding of artificial intelligence, machine learning algorithms, neural networks, and deep learning techniques.\\nProficiency in programming languages such as Python, R, or Java.\\nStrong knowledge of AI frameworks, libraries (TensorFlow, PyTorch, Peras) and technologies, including evaluation, selection and implementation.\\nKnowledge of cloud platforms for AI deployment (AWS, Azure, Google Cloud).\\nFamiliarity with big data technologies and tools (e.g., Hadoop, Spark).\\nExcellent problem-solving and analytical skills, with the ability to work with complex datasets.\\nStrong communication and collaboration skills, with the ability to work effectively in cross-functional teams.\\nStrong analytical and architectural skills, with a focus on enterprise-level solutions\\nDiversity & Inclusion\\nAt Mevotech, diversity goes beyond demographics. We embrace unique perspectives and voices in our culture. We actively seek out different viewpoints and incorporate them into our organization.\\nAccessibility Accommodations\\nMevotech provides accessibility accommodations during the recruitment process. If you require accommodations, please let us know, and we\\'ll work with you to meet your needs.\\nShare\\nApply\\nApply for this position\\nRequired\\n*\\nApply with\\nFirst Name\\n*\\nLast Name\\n*\\nEmail Address\\n*\\nPhone\\n*\\nAddress\\nResume\\n*\\nWe\\'ve received your resume. Click\\nhere\\nto update it.\\nAttach resume\\nor\\nPaste resume\\nAttach resume as .pdf, .doc, .docx, .odt, .txt, or .rtf (limit 5MB) or\\nPaste resume\\nPaste your resume here or\\nAttach resume file\\nAre you comfortable working 3 days on site in accordance with our hybrid policy?\\n*\\n-- No answer --\\nYes\\nNo\\nAre you comfortable undergoing a criminal background and reference check?\\n*\\n-- No answer --\\nYes\\nNo\\nPlease select your salary expectations.\\n*\\n-- No answer --\\n70,000-80,000\\n80,000-90,000\\n90,000-100,000\\n100,000-110,000\\nAre you legally authorized to work in Canada?\\n-- No answer --\\nYes\\nNo\\nHuman Check\\n*\\nSubmit Application\\nThis website uses cookies and other analytics technologies.\\nBy selecting \"Allow\", you consent to the recording, use and sharing of your website activity by this website and its service providers.\\nAllow\\nReject All\\nPowered by\\n\\n'}]"
      ]
     },
     "execution_count": 9,
     "metadata": {},
     "output_type": "execute_result"
    }
   ],
   "source": [
    "def message_for(website):\n",
    "    return [\n",
    "        {\"role\": \"system\", \"content\": system_prompt},\n",
    "        {\"role\": \"user\", \"content\": user_prompt()}\n",
    "    ]\n",
    "\n",
    "message_for(web)"
   ]
  },
  {
   "cell_type": "code",
   "execution_count": 10,
   "id": "ba05d6ee",
   "metadata": {},
   "outputs": [],
   "source": [
    "def generate_resume_sections(job_description_url):\n",
    "    \"\"\"\n",
    "    Generate resume sections based on the job description.\n",
    "    \"\"\"\n",
    "    website = Website(job_description_url)\n",
    "    response = openai.chat.completions.create(\n",
    "        model=\"gpt-4o-mini\",\n",
    "        messages=message_for(website),\n",
    "        max_tokens=1500,\n",
    "        temperature=0.5\n",
    "    )\n",
    "    return response.choices[0].message.content.strip()\n",
    "\n",
    "def display_summary(url):\n",
    "    summary = generate_resume_sections(url)\n",
    "    display(Markdown(summary))"
   ]
  },
  {
   "cell_type": "code",
   "execution_count": 11,
   "id": "50a6594c",
   "metadata": {},
   "outputs": [
    {
     "data": {
      "text/plain": [
       "'# Resume for Artificial Intelligence Analyst Position\\n\\n## Objective:\\nDedicated and results-driven AI Analyst with a strong background in artificial intelligence and data science, seeking to leverage expertise in AI strategy development and implementation at Mevotech. Committed to enhancing operational efficiency and service delivery through innovative AI solutions.\\n\\n## Highlights of Qualifications:\\n- Over 3 years of experience in AI strategy development, focusing on operational efficiency and service delivery improvement.\\n- Proficient in conducting comprehensive needs assessments and data analysis to identify AI integration opportunities.\\n- Strong knowledge of machine learning algorithms, neural networks, and deep learning techniques to design effective AI solutions.\\n- Experienced in evaluating and recommending AI technologies and tools, including conducting cost-benefit analyses and risk assessments.\\n- Proven ability to communicate complex AI concepts and findings to non-technical stakeholders in a clear and actionable manner.\\n- Skilled in project planning and resource allocation, ensuring successful delivery of AI initiatives across cross-functional teams.\\n- Familiarity with cloud platforms (AWS, Azure, Google Cloud) and big data technologies (Hadoop, Spark) for effective AI deployment.\\n\\n## Technical Skills:\\n- Programming Languages: Python, R, Java\\n- AI Frameworks: TensorFlow, PyTorch, Keras\\n- AI Technologies: Generative AI, LLM, Transformer architecture, AI security\\n- Cloud Platforms: AWS, Azure, Google Cloud\\n- Big Data Tools: Hadoop, Spark\\n- Data Analysis & Visualization: Advanced analytical techniques and tools\\n- Project Management: Agile methodologies and cross-functional collaboration'"
      ]
     },
     "execution_count": 11,
     "metadata": {},
     "output_type": "execute_result"
    }
   ],
   "source": [
    "generate_resume_sections(\"https://mevotech.applytojob.com/apply/FRt0RlwFAu?source=LinkedIn\")"
   ]
  },
  {
   "cell_type": "code",
   "execution_count": 12,
   "id": "f1a5b45c",
   "metadata": {},
   "outputs": [
    {
     "data": {
      "text/markdown": [
       "# Resume for Artificial Intelligence Analyst Position\n",
       "\n",
       "## Objective:\n",
       "Dynamic and results-driven AI Analyst with a strong background in artificial intelligence and data science, seeking to leverage expertise in AI technologies and strategic planning to enhance operational efficiency at Mevotech.\n",
       "\n",
       "## Highlights of Qualifications:\n",
       "- Over 5 years of experience in AI strategy development, implementation, and evaluation, aligning with organizational goals.\n",
       "- Proven track record in conducting comprehensive needs assessments to identify and integrate AI solutions effectively.\n",
       "- Extensive knowledge of machine learning algorithms, neural networks, and deep learning techniques, ensuring innovative solutions.\n",
       "- Proficient in programming languages such as Python and R, with hands-on experience in AI frameworks like TensorFlow and PyTorch.\n",
       "- Demonstrated ability to communicate complex AI concepts to non-technical stakeholders, driving cross-functional collaboration.\n",
       "- Skilled in project management, overseeing resource allocation and ensuring successful delivery of AI initiatives.\n",
       "- Strong analytical skills with experience in cost-benefit analysis and risk assessment for informed decision-making on AI adoption.\n",
       "\n",
       "## Technical Skills:\n",
       "- **Programming Languages:** Python, R, Java\n",
       "- **AI Frameworks:** TensorFlow, PyTorch, Keras\n",
       "- **Cloud Platforms:** AWS, Azure, Google Cloud\n",
       "- **Big Data Technologies:** Hadoop, Spark\n",
       "- **Machine Learning Techniques:** Neural Networks, Deep Learning, LLM, Transformer Architecture\n",
       "- **Data Analysis Tools:** Statistical Analysis, Data Visualization\n",
       "- **Project Management:** Resource Allocation, Project Planning, Quality Assurance"
      ],
      "text/plain": [
       "<IPython.core.display.Markdown object>"
      ]
     },
     "metadata": {},
     "output_type": "display_data"
    }
   ],
   "source": [
    "display_summary(\"https://mevotech.applytojob.com/apply/FRt0RlwFAu?source=LinkedIn\")"
   ]
  }
 ],
 "metadata": {
  "kernelspec": {
   "display_name": "llms",
   "language": "python",
   "name": "python3"
  },
  "language_info": {
   "codemirror_mode": {
    "name": "ipython",
    "version": 3
   },
   "file_extension": ".py",
   "mimetype": "text/x-python",
   "name": "python",
   "nbconvert_exporter": "python",
   "pygments_lexer": "ipython3",
   "version": "3.11.12"
  }
 },
 "nbformat": 4,
 "nbformat_minor": 5
}
