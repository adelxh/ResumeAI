{
 "cells": [
  {
   "cell_type": "code",
   "execution_count": 2,
   "id": "ac7891bb",
   "metadata": {},
   "outputs": [],
   "source": [
    "import requests \n",
    "from bs4 import BeautifulSoup\n",
    "from IPython.display import Markdown, display\n",
    "import ollama"
   ]
  },
  {
   "cell_type": "code",
   "execution_count": 3,
   "id": "af1a5352",
   "metadata": {},
   "outputs": [],
   "source": [
    "OLLAMA_API = \"http://localhost:11434/api/chat\"\n",
    "MODEL = \"llama3.2\""
   ]
  },
  {
   "cell_type": "code",
   "execution_count": 4,
   "id": "e1972eb9",
   "metadata": {},
   "outputs": [],
   "source": [
    "headers = {\n",
    " \"User-Agent\": \"Mozilla/5.0 (Windows NT 10.0; Win64; x64) AppleWebKit/537.36 (KHTML, like Gecko) Chrome/117.0.0.0 Safari/537.36\"\n",
    "}\n",
    "\n",
    "class Website:\n",
    "\n",
    "    def __init__(self, url):\n",
    "        \"\"\"\n",
    "        Create this Website object from the given url using the BeautifulSoup library\n",
    "        \"\"\"\n",
    "        self.url = url\n",
    "        response = requests.get(url, headers=headers)\n",
    "        soup = BeautifulSoup(response.content, 'html.parser')\n",
    "        self.title = soup.title.string if soup.title else \"No title found\"\n",
    "        for irrelevant in soup.body([\"script\", \"style\", \"img\", \"input\"]):\n",
    "            irrelevant.decompose()\n",
    "        self.text = soup.body.get_text(separator=\"\\n\", strip=True)"
   ]
  },
  {
   "cell_type": "code",
   "execution_count": 8,
   "id": "8be39017",
   "metadata": {},
   "outputs": [
    {
     "name": "stdout",
     "output_type": "stream",
     "text": [
      "Title: Artificial Intelligence Analyst - Mevotech - Career Page\n",
      "\n",
      "Text: Skip To Job Description\n",
      "View All Jobs\n",
      "View Our Website\n",
      "Artificial Intelligence Analyst\n",
      "North York, ON, Canada\n",
      "Full Time\n",
      "IT\n",
      "Experienced\n",
      "Share\n",
      "Take your Career to the next Level with MEVOTECH.\n",
      "We are constantly challenging the status quo and raising the bar allowing employees to make an impact within the company.\n",
      "Mevotech is a trusted North American aftermarket auto parts leader that specializes in the engineering, design and distribution of driveline, steering and suspension parts (branded and private label). Fueled by innovation, our brands feature engineering improvements for maximum durability and performance, as well as time and labor-saving enhancements that drive bay efficiencies and increase shop revenues. Our in-house engineering team always has the Professional Technician in mind, and we are continuously optimizing part design for durability and ease of installation.\n",
      "With over 600 Canadian and U.S. team members, we can attribute our continued success to the passion, spirit and dedication of our employees. Mevotech was recognized with a Canada’s Best Managed Companies award in 2023 and 2024 for its industry-leading performance, global business practices, and sustained growth. Check out our career website to learn about our amazing culture and our commitment to employee wellness and engagement.\n",
      "https://www.mevotech.com/about-us/careers/\n",
      "JOB PURPOSE\n",
      "Reporting directly to the Manager of Data Governance, the AI Analyst will play a key role in advancing the development and deployment of AI strategies and tools across the organization. This position focuses on evaluating needs, recommending AI technologies, and supporting their architecture and implementation to improve operational efficiency and service delivery. The AI Analyst will be responsible for designing and conducting experiments, analyzing results, and clearly communicating findings to non-technical stakeholders, ensuring alignment with the company’s strategic objectives.\n",
      "KEY DUTIES AND RESPONSIBILITIES\n",
      "Strategic Planning:\n",
      "Monitor AI trends and industry developments to propose strategic opportunities for AI integration.\n",
      "Assist in developing  a strategic AI roadmap, defining milestones, deliverables, and timelines.\n",
      "Execution of AI strategies to align with organizational goals and enhance operational efficiency\n",
      "Needs Analysis & Evaluation:\n",
      "Conduct comprehensive needs assessments to identify opportunities for AI integration.\n",
      "Conduct research and data analysis to identify trends, patterns, and insights for AI applications.\n",
      "Measure the effectiveness of AI solutions, identifying areas of improvement\n",
      "Evaluate and recommend AI tools (e.g., AI assistants or co-pilots) based on feasibility and effort estimates.\n",
      "Perform cost-benefit analysis and risk assessment to guide decision-making on AI implementation\n",
      "Lead requirements gathering and analysis with stakeholders across functions\n",
      "Solution Design & Implementation:\n",
      "Design solutions, deployment plans, and quality assurance guidelines for AI initiatives.\n",
      "Provide subject matter expertise on AI architecture and implementation strategies.\n",
      "Oversee project planning and resource allocation to ensure successful delivery.\n",
      "Collaboration & Knowledge Sharing:\n",
      "Work closely with cross-functional teams to ensure AI solutions meet user needs.\n",
      "Communicate AI-related findings, results, and recommendations to non-technical stakeholders in a clear and actionable manner.\n",
      "Facilitate collaboration across departments to promote AI adoption and drive innovation throughout the organization.\n",
      "QUALIFICATIONS, SKILLS, AND EDUCATIONAL REQUIREMENTS\n",
      "Bachelor’s degree in computer science, Data Science, Information Systems, or Generative AI Certificate course or relatable work experience\n",
      "Understanding of technologies in the AI field, such as generative AI, LLM, world model, AI Agent, Transformer architecture, and AI security.\n",
      "Strong understanding of artificial intelligence, machine learning algorithms, neural networks, and deep learning techniques.\n",
      "Proficiency in programming languages such as Python, R, or Java.\n",
      "Strong knowledge of AI frameworks, libraries (TensorFlow, PyTorch, Peras) and technologies, including evaluation, selection and implementation.\n",
      "Knowledge of cloud platforms for AI deployment (AWS, Azure, Google Cloud).\n",
      "Familiarity with big data technologies and tools (e.g., Hadoop, Spark).\n",
      "Excellent problem-solving and analytical skills, with the ability to work with complex datasets.\n",
      "Strong communication and collaboration skills, with the ability to work effectively in cross-functional teams.\n",
      "Strong analytical and architectural skills, with a focus on enterprise-level solutions\n",
      "Diversity & Inclusion\n",
      "At Mevotech, diversity goes beyond demographics. We embrace unique perspectives and voices in our culture. We actively seek out different viewpoints and incorporate them into our organization.\n",
      "Accessibility Accommodations\n",
      "Mevotech provides accessibility accommodations during the recruitment process. If you require accommodations, please let us know, and we'll work with you to meet your needs.\n",
      "Share\n",
      "Apply\n",
      "Apply for this position\n",
      "Required\n",
      "*\n",
      "Apply with\n",
      "First Name\n",
      "*\n",
      "Last Name\n",
      "*\n",
      "Email Address\n",
      "*\n",
      "Phone\n",
      "*\n",
      "Address\n",
      "Resume\n",
      "*\n",
      "We've received your resume. Click\n",
      "here\n",
      "to update it.\n",
      "Attach resume\n",
      "or\n",
      "Paste resume\n",
      "Attach resume as .pdf, .doc, .docx, .odt, .txt, or .rtf (limit 5MB) or\n",
      "Paste resume\n",
      "Paste your resume here or\n",
      "Attach resume file\n",
      "Are you comfortable working 3 days on site in accordance with our hybrid policy?\n",
      "*\n",
      "-- No answer --\n",
      "Yes\n",
      "No\n",
      "Are you comfortable undergoing a criminal background and reference check?\n",
      "*\n",
      "-- No answer --\n",
      "Yes\n",
      "No\n",
      "Please select your salary expectations.\n",
      "*\n",
      "-- No answer --\n",
      "70,000-80,000\n",
      "80,000-90,000\n",
      "90,000-100,000\n",
      "100,000-110,000\n",
      "Are you legally authorized to work in Canada?\n",
      "-- No answer --\n",
      "Yes\n",
      "No\n",
      "Human Check\n",
      "*\n",
      "Submit Application\n",
      "This website uses cookies and other analytics technologies.\n",
      "By selecting \"Allow\", you consent to the recording, use and sharing of your website activity by this website and its service providers.\n",
      "Allow\n",
      "Reject All\n",
      "Powered by...\n"
     ]
    }
   ],
   "source": [
    "web = Website(\"https://mevotech.applytojob.com/apply/FRt0RlwFAu?source=LinkedIn\")\n",
    "print(f\"Title: {web.title}\\n\")\n",
    "print(f\"Text: {web.text}...\")"
   ]
  },
  {
   "cell_type": "code",
   "execution_count": 5,
   "id": "12dc1d60",
   "metadata": {},
   "outputs": [],
   "source": [
    "system_prompt = \"\"\"\n",
    "You are a proffessional career advisor specializing in ccrafting tailored resumes.\n",
    "Given a URL containing a job description, performe the following steps:\n",
    "1. Retrieve and carefully analyze the job description from the provided URL.\n",
    "2. Generate the following clearly structured resume sections based on the analysis:\n",
    "Objective:\n",
    "- 1–2 concise sentences summarizing the applicant’s suitability for the role.\n",
    "Highlights of Qualifications:\n",
    "- Exactly 7 bullet points highlighting relevant experiences, achievements, and competencies aligned with the job description.\n",
    "Technical Skills:\n",
    "- A clear list of essential technical skills directly relevant to the job.\n",
    "Make sure your entire response is formatted in Markdown for clarity and readability.\n",
    "\"\"\""
   ]
  },
  {
   "cell_type": "code",
   "execution_count": 9,
   "id": "3704cfd6",
   "metadata": {},
   "outputs": [],
   "source": [
    "def user_prompt():\n",
    "    user_prompt = f\"Youre looking at the job description website called {web.title}\"\n",
    "    user_prompt += f\"\\nHere is the job description text:{web.text}\\n\\n\"\n",
    "    return user_prompt"
   ]
  },
  {
   "cell_type": "code",
   "execution_count": 10,
   "id": "8e39960d",
   "metadata": {},
   "outputs": [
    {
     "data": {
      "text/plain": [
       "[{'role': 'system',\n",
       "  'content': '\\nYou are a proffessional career advisor specializing in ccrafting tailored resumes.\\nGiven a URL containing a job description, performe the following steps:\\n1. Retrieve and carefully analyze the job description from the provided URL.\\n2. Generate the following clearly structured resume sections based on the analysis:\\nObjective:\\n- 1–2 concise sentences summarizing the applicant’s suitability for the role.\\nHighlights of Qualifications:\\n- Exactly 7 bullet points highlighting relevant experiences, achievements, and competencies aligned with the job description.\\nTechnical Skills:\\n- A clear list of essential technical skills directly relevant to the job.\\nMake sure your entire response is formatted in Markdown for clarity and readability.\\n'},\n",
       " {'role': 'user',\n",
       "  'content': 'Youre looking at the job description website called Artificial Intelligence Analyst - Mevotech - Career Page\\nHere is the job description text:Skip To Job Description\\nView All Jobs\\nView Our Website\\nArtificial Intelligence Analyst\\nNorth York, ON, Canada\\nFull Time\\nIT\\nExperienced\\nShare\\nTake your Career to the next Level with MEVOTECH.\\nWe are constantly challenging the status quo and raising the bar allowing employees to make an impact within the company.\\nMevotech is a trusted North American aftermarket auto parts leader that specializes in the engineering, design and distribution of driveline, steering and suspension parts (branded and private label). Fueled by innovation, our brands feature engineering improvements for maximum durability and performance, as well as time and labor-saving enhancements that drive bay efficiencies and increase shop revenues. Our in-house engineering team always has the Professional Technician in mind, and we are continuously optimizing part design for durability and ease of installation.\\nWith over 600 Canadian and U.S. team members, we can attribute our continued success to the passion, spirit and dedication of our employees. Mevotech was recognized with a Canada’s Best Managed Companies award in 2023 and 2024 for its industry-leading performance, global business practices, and sustained growth. Check out our career website to learn about our amazing culture and our commitment to employee wellness and engagement.\\nhttps://www.mevotech.com/about-us/careers/\\nJOB PURPOSE\\nReporting directly to the Manager of Data Governance, the AI Analyst will play a key role in advancing the development and deployment of AI strategies and tools across the organization. This position focuses on evaluating needs, recommending AI technologies, and supporting their architecture and implementation to improve operational efficiency and service delivery. The AI Analyst will be responsible for designing and conducting experiments, analyzing results, and clearly communicating findings to non-technical stakeholders, ensuring alignment with the company’s strategic objectives.\\nKEY DUTIES AND RESPONSIBILITIES\\nStrategic Planning:\\nMonitor AI trends and industry developments to propose strategic opportunities for AI integration.\\nAssist in developing \\xa0a strategic AI roadmap, defining milestones, deliverables, and timelines.\\nExecution of AI strategies to align with organizational goals and enhance operational efficiency\\nNeeds Analysis & Evaluation:\\nConduct comprehensive needs assessments to identify opportunities for AI integration.\\nConduct research and data analysis to identify trends, patterns, and insights for AI applications.\\nMeasure the effectiveness of AI solutions, identifying areas of improvement\\nEvaluate and recommend AI tools (e.g., AI assistants or co-pilots) based on feasibility and effort estimates.\\nPerform cost-benefit analysis and risk assessment to guide decision-making on AI implementation\\nLead requirements gathering and analysis with stakeholders across functions\\nSolution Design & Implementation:\\nDesign solutions, deployment plans, and quality assurance guidelines for AI initiatives.\\nProvide subject matter expertise on AI architecture and implementation strategies.\\nOversee project planning and resource allocation to ensure successful delivery.\\nCollaboration & Knowledge Sharing:\\nWork closely with cross-functional teams to ensure AI solutions meet user needs.\\nCommunicate AI-related findings, results, and recommendations to non-technical stakeholders in a clear and actionable manner.\\nFacilitate collaboration across departments to promote AI adoption and drive innovation throughout the organization.\\nQUALIFICATIONS, SKILLS, AND EDUCATIONAL REQUIREMENTS\\nBachelor’s degree in computer science, Data Science, Information Systems, or Generative AI Certificate course or relatable work experience\\nUnderstanding of technologies in the AI field, such as generative AI, LLM, world model, AI Agent, Transformer architecture, and AI security.\\nStrong understanding of artificial intelligence, machine learning algorithms, neural networks, and deep learning techniques.\\nProficiency in programming languages such as Python, R, or Java.\\nStrong knowledge of AI frameworks, libraries (TensorFlow, PyTorch, Peras) and technologies, including evaluation, selection and implementation.\\nKnowledge of cloud platforms for AI deployment (AWS, Azure, Google Cloud).\\nFamiliarity with big data technologies and tools (e.g., Hadoop, Spark).\\nExcellent problem-solving and analytical skills, with the ability to work with complex datasets.\\nStrong communication and collaboration skills, with the ability to work effectively in cross-functional teams.\\nStrong analytical and architectural skills, with a focus on enterprise-level solutions\\nDiversity & Inclusion\\nAt Mevotech, diversity goes beyond demographics. We embrace unique perspectives and voices in our culture. We actively seek out different viewpoints and incorporate them into our organization.\\nAccessibility Accommodations\\nMevotech provides accessibility accommodations during the recruitment process. If you require accommodations, please let us know, and we\\'ll work with you to meet your needs.\\nShare\\nApply\\nApply for this position\\nRequired\\n*\\nApply with\\nFirst Name\\n*\\nLast Name\\n*\\nEmail Address\\n*\\nPhone\\n*\\nAddress\\nResume\\n*\\nWe\\'ve received your resume. Click\\nhere\\nto update it.\\nAttach resume\\nor\\nPaste resume\\nAttach resume as .pdf, .doc, .docx, .odt, .txt, or .rtf (limit 5MB) or\\nPaste resume\\nPaste your resume here or\\nAttach resume file\\nAre you comfortable working 3 days on site in accordance with our hybrid policy?\\n*\\n-- No answer --\\nYes\\nNo\\nAre you comfortable undergoing a criminal background and reference check?\\n*\\n-- No answer --\\nYes\\nNo\\nPlease select your salary expectations.\\n*\\n-- No answer --\\n70,000-80,000\\n80,000-90,000\\n90,000-100,000\\n100,000-110,000\\nAre you legally authorized to work in Canada?\\n-- No answer --\\nYes\\nNo\\nHuman Check\\n*\\nSubmit Application\\nThis website uses cookies and other analytics technologies.\\nBy selecting \"Allow\", you consent to the recording, use and sharing of your website activity by this website and its service providers.\\nAllow\\nReject All\\nPowered by\\n\\n'}]"
      ]
     },
     "execution_count": 10,
     "metadata": {},
     "output_type": "execute_result"
    }
   ],
   "source": [
    "def message_for(website):\n",
    "    return [\n",
    "        {\"role\": \"system\", \"content\": system_prompt},\n",
    "        {\"role\": \"user\", \"content\": user_prompt()}\n",
    "    ]\n",
    "\n",
    "message_for(web)"
   ]
  },
  {
   "cell_type": "code",
   "execution_count": 14,
   "id": "e8fe7593",
   "metadata": {},
   "outputs": [
    {
     "data": {
      "text/markdown": [
       "# Artificial Intelligence Analyst Resume Template\n",
       "\n",
       "Below is a well-structured resume template for an Artificial Intelligence Analyst position based on the provided job description.\n",
       "\n",
       "## Objective\n",
       "\n",
       "To secure an Artificial Intelligence Analyst role at Mevotech, utilizing my skills in AI development and deployment to drive operational efficiency and service delivery.\n",
       "\n",
       "## Highlights of Qualifications\n",
       "\n",
       "* **AI Strategy Development**: Successfully developed and implemented AI strategies across various industries, resulting in improved operational efficiency and enhanced customer experience.\n",
       "* **Data Analysis**: Conducted comprehensive data analysis to identify trends, patterns, and insights for AI applications, informing strategic decision-making.\n",
       "* **Machine Learning Algorithm Expertise**: Proficient in programming languages such as Python, R, and Java, with a strong understanding of machine learning algorithms, neural networks, and deep learning techniques.\n",
       "* **AI Frameworks and Technologies**: Experienced in evaluating, selecting, and implementing AI frameworks, libraries (TensorFlow, PyTorch, Peras), and technologies, including cloud platforms for AI deployment (AWS, Azure, Google Cloud).\n",
       "* **Collaboration and Communication**: Proven ability to work effectively in cross-functional teams, facilitate collaboration across departments, and communicate complex AI-related findings and recommendations to non-technical stakeholders.\n",
       "* **Problem-Solving and Analytical Skills**: Demonstrated excellent problem-solving and analytical skills, with the ability to work with complex datasets and drive data-driven insights.\n",
       "* **Industry Expertise**: Familiarity with big data technologies and tools (e.g., Hadoop, Spark), as well as understanding of AI security principles.\n",
       "\n",
       "## Technical Skills\n",
       "\n",
       "* Programming languages: Python, R, Java\n",
       "* Machine learning algorithms and neural networks\n",
       "* AI frameworks and libraries: TensorFlow, PyTorch, Peras\n",
       "* Cloud platforms for AI deployment: AWS, Azure, Google Cloud\n",
       "* Big data technologies and tools: Hadoop, Spark\n",
       "* AI security principles\n",
       "* Generative AI, LLM, world model, AI Agent, Transformer architecture\n",
       "\n",
       "## Education\n",
       "\n",
       "[Degree], [Field of Study], [University Name], [Graduation Date]\n",
       "\n",
       "or\n",
       "\n",
       "[Relevant Coursework or Certifications in Data Science/Generative AI]"
      ],
      "text/plain": [
       "<IPython.core.display.Markdown object>"
      ]
     },
     "metadata": {},
     "output_type": "display_data"
    }
   ],
   "source": [
    "response = ollama.chat(model=MODEL, messages=message_for(web))\n",
    "display(Markdown(response['message']['content']))"
   ]
  }
 ],
 "metadata": {
  "kernelspec": {
   "display_name": "llms",
   "language": "python",
   "name": "python3"
  },
  "language_info": {
   "codemirror_mode": {
    "name": "ipython",
    "version": 3
   },
   "file_extension": ".py",
   "mimetype": "text/x-python",
   "name": "python",
   "nbconvert_exporter": "python",
   "pygments_lexer": "ipython3",
   "version": "3.11.12"
  }
 },
 "nbformat": 4,
 "nbformat_minor": 5
}
