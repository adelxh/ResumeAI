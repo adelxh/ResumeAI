{
 "cells": [
  {
   "cell_type": "code",
   "execution_count": 1,
   "id": "9f8c2d32",
   "metadata": {},
   "outputs": [],
   "source": [
    "import os\n",
    "import smtplib\n",
    "from datetime import datetime\n",
    "from email.mime.multipart import MIMEMultipart\n",
    "from email.mime.text import MIMEText"
   ]
  },
  {
   "cell_type": "code",
   "execution_count": 2,
   "id": "a34b7f04",
   "metadata": {},
   "outputs": [],
   "source": [
    "def send_feedback_email(feedback_text):\n",
    "    smtp_server = os.getenv(\"SMTP_SERVER\")\n",
    "    smtp_port = int(os.getenv(\"SMTP_PORT\", \"587\"))\n",
    "    smtp_username = os.getenv(\"SMTP_USERNAME\")\n",
    "    smtp_password = os.getenv(\"SMTP_PASSWORD\")\n",
    "    recipient_email = os.getenv(\"ADMIN_EMAIL\")\n",
    "    \n",
    "    if not all([smtp_server, smtp_port, smtp_username, smtp_password, recipient_email]):\n",
    "        return ValueError({'error': 'Email configuration incomplete'}), 500\n",
    "    \n",
    "    \n",
    "    # Create message\n",
    "    msg = MIMEMultipart()\n",
    "    msg['From'] = smtp_username\n",
    "    msg['To'] = recipient_email\n",
    "    msg['Subject'] = f\"Anonymous Feedback - {datetime.now().strftime('%Y-%m-%d %H:%M:%S')}\"\n",
    "        \n",
    "    # Email body\n",
    "    body = f\"\"\"\n",
    "    New anonymous feedback has been received:\n",
    "        \n",
    "    Time: {datetime.now().strftime('%Y-%m-%d %H:%M:%S')}\n",
    "        \n",
    "    Feedback:\n",
    "    {feedback_text}\n",
    "        \n",
    "    This is an automated notification.\n",
    "    \"\"\"\n",
    "        \n",
    "    msg.attach(MIMEText(body, 'plain'))\n",
    "        \n",
    "    # Connect to server and send email\n",
    "    server = smtplib.SMTP(smtp_server, smtp_port)\n",
    "    server.starttls()\n",
    "    server.login(smtp_username, smtp_password)\n",
    "    server.send_message(msg)\n",
    "    server.quit()\n",
    "        \n",
    "    return True"
   ]
  },
  {
   "cell_type": "code",
   "execution_count": 3,
   "id": "4e8cff0b",
   "metadata": {},
   "outputs": [
    {
     "data": {
      "text/plain": [
       "'gabikir1999@gmail.com'"
      ]
     },
     "execution_count": 3,
     "metadata": {},
     "output_type": "execute_result"
    }
   ],
   "source": [
    "os.environ[\"SMTP_SERVER\"] \n",
    "os.environ[\"SMTP_PORT\"] \n",
    "os.environ[\"SMTP_USERNAME\"] \n",
    "os.environ[\"SMTP_PASSWORD\"] \n",
    "os.environ[\"ADMIN_EMAIL\"]"
   ]
  },
  {
   "cell_type": "code",
   "execution_count": null,
   "id": "52416a32",
   "metadata": {},
   "outputs": [
    {
     "name": "stdout",
     "output_type": "stream",
     "text": [
      "✅ Feedback email sent successfully.\n"
     ]
    }
   ],
   "source": [
    "try:\n",
    "    send_feedback_email(\"This is a test feedback message from the notebook.\")\n",
    "    print(\"✅ Feedback email sent successfully.\")\n",
    "except Exception as e:\n",
    "    print(f\"❌ Failed to send feedback: {e}\")"
   ]
  }
 ],
 "metadata": {
  "kernelspec": {
   "display_name": "llms",
   "language": "python",
   "name": "python3"
  },
  "language_info": {
   "codemirror_mode": {
    "name": "ipython",
    "version": 3
   },
   "file_extension": ".py",
   "mimetype": "text/x-python",
   "name": "python",
   "nbconvert_exporter": "python",
   "pygments_lexer": "ipython3",
   "version": "3.11.12"
  }
 },
 "nbformat": 4,
 "nbformat_minor": 5
}
